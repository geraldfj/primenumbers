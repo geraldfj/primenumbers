{
 "cells": [
  {
   "cell_type": "code",
   "execution_count": 1,
   "metadata": {},
   "outputs": [],
   "source": [
    "from math import sqrt\n",
    "import csv\n",
    "import time"
   ]
  },
  {
   "cell_type": "code",
   "execution_count": 2,
   "metadata": {},
   "outputs": [],
   "source": [
    "def prime(n):\n",
    "    for factor in range(3,int(sqrt(n))+1):\n",
    "        if (factor%10 == 1) or (factor%10 == 3) or (factor%10 == 7) or (factor%10 == 9):\n",
    "            if n%factor == 0:\n",
    "                return False\n",
    "    return True"
   ]
  },
  {
   "cell_type": "code",
   "execution_count": 3,
   "metadata": {},
   "outputs": [],
   "source": [
    "#Main program\n",
    "#Designed to reduce computation for bigger numbers\n",
    "\n",
    "a = []\n",
    "\n",
    "x = 1\n",
    "y = 10**6\n",
    "\n",
    "#Sending the value to the function to check whether it is a prime number\n",
    "\n",
    "if x > y:\n",
    "    print('Ending number should be greater than starting number')\n",
    "else:\n",
    "    for i in range(x,y+1):\n",
    "        if i <= 5:\n",
    "            if (i == 2) or (i == 3) or (i == 5):\n",
    "                a.append(i)\n",
    "        elif i > 5:\n",
    "            if (i%10 == 1) or (i%10 == 3) or (i%10 == 7) or (i%10 == 9):    #Not sending numbers that are divisible by 2 or 5\n",
    "                if prime(i):\n",
    "                    a.append(i)\n",
    "\n",
    "textfile = open('/home/geraldfj/Documents/python/PrimeNumbers/primenumbers','w')\n",
    "textfile.close()\n",
    "\n",
    "for i in range(len(a)):\n",
    "    textfile = open('/home/geraldfj/Documents/python/PrimeNumbers/primenumbers','a')\n",
    "    textfile.write(str(a[i])+'\\n')\n",
    "    textfile.close()\n"
   ]
  }
 ],
 "metadata": {
  "kernelspec": {
   "display_name": "Python 3",
   "language": "python",
   "name": "python3"
  },
  "language_info": {
   "codemirror_mode": {
    "name": "ipython",
    "version": 3
   },
   "file_extension": ".py",
   "mimetype": "text/x-python",
   "name": "python",
   "nbconvert_exporter": "python",
   "pygments_lexer": "ipython3",
   "version": "3.6.6"
  }
 },
 "nbformat": 4,
 "nbformat_minor": 2
}
